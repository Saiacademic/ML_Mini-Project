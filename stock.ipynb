{
 "cells": [
  {
   "cell_type": "code",
   "execution_count": 297,
   "metadata": {},
   "outputs": [],
   "source": [
    "import numpy as np\n",
    "import pandas as pd\n",
    "import pandas_datareader as pdr\n",
    "from sklearn.preprocessing import MinMaxScaler\n",
    "import math\n",
    "from sklearn.metrics import mean_squared_error\n",
    "import tensorflow as tf\n",
    "from tensorflow.keras.models import Sequential\n",
    "from tensorflow.keras.layers import Dense\n",
    "from tensorflow.keras.layers import LSTM\n",
    "import matplotlib.pyplot as plt\n",
    "\n",
    "API_KEY = '4075d6c24e2273322a32f51559f52c20c7138e49'"
   ]
  },
  {
   "cell_type": "code",
   "execution_count": 298,
   "metadata": {},
   "outputs": [
    {
     "name": "stderr",
     "output_type": "stream",
     "text": [
      "C:\\Users\\Lenovo\\AppData\\Local\\Temp\\ipykernel_15384\\2943996554.py:1: FutureWarning: In a future version of pandas all arguments of concat except for the argument 'objs' will be keyword-only.\n",
      "  stock_data = pdr.get_data_tiingo('MSFT', api_key=API_KEY)\n"
     ]
    },
    {
     "data": {
      "text/html": [
       "<div>\n",
       "<style scoped>\n",
       "    .dataframe tbody tr th:only-of-type {\n",
       "        vertical-align: middle;\n",
       "    }\n",
       "\n",
       "    .dataframe tbody tr th {\n",
       "        vertical-align: top;\n",
       "    }\n",
       "\n",
       "    .dataframe thead th {\n",
       "        text-align: right;\n",
       "    }\n",
       "</style>\n",
       "<table border=\"1\" class=\"dataframe\">\n",
       "  <thead>\n",
       "    <tr style=\"text-align: right;\">\n",
       "      <th></th>\n",
       "      <th></th>\n",
       "      <th>close</th>\n",
       "      <th>high</th>\n",
       "      <th>low</th>\n",
       "      <th>open</th>\n",
       "      <th>volume</th>\n",
       "      <th>adjClose</th>\n",
       "      <th>adjHigh</th>\n",
       "      <th>adjLow</th>\n",
       "      <th>adjOpen</th>\n",
       "      <th>adjVolume</th>\n",
       "      <th>divCash</th>\n",
       "      <th>splitFactor</th>\n",
       "    </tr>\n",
       "    <tr>\n",
       "      <th>symbol</th>\n",
       "      <th>date</th>\n",
       "      <th></th>\n",
       "      <th></th>\n",
       "      <th></th>\n",
       "      <th></th>\n",
       "      <th></th>\n",
       "      <th></th>\n",
       "      <th></th>\n",
       "      <th></th>\n",
       "      <th></th>\n",
       "      <th></th>\n",
       "      <th></th>\n",
       "      <th></th>\n",
       "    </tr>\n",
       "  </thead>\n",
       "  <tbody>\n",
       "    <tr>\n",
       "      <th rowspan=\"11\" valign=\"top\">MSFT</th>\n",
       "      <th>2018-05-08 00:00:00+00:00</th>\n",
       "      <td>95.81</td>\n",
       "      <td>96.1600</td>\n",
       "      <td>95.06</td>\n",
       "      <td>95.85</td>\n",
       "      <td>23484589</td>\n",
       "      <td>90.394528</td>\n",
       "      <td>90.724745</td>\n",
       "      <td>89.686920</td>\n",
       "      <td>90.432267</td>\n",
       "      <td>23484589</td>\n",
       "      <td>0.0</td>\n",
       "      <td>1.0</td>\n",
       "    </tr>\n",
       "    <tr>\n",
       "      <th>2018-05-09 00:00:00+00:00</th>\n",
       "      <td>96.94</td>\n",
       "      <td>96.9700</td>\n",
       "      <td>95.05</td>\n",
       "      <td>96.01</td>\n",
       "      <td>27327410</td>\n",
       "      <td>91.460657</td>\n",
       "      <td>91.488961</td>\n",
       "      <td>89.677485</td>\n",
       "      <td>90.583223</td>\n",
       "      <td>27327410</td>\n",
       "      <td>0.0</td>\n",
       "      <td>1.0</td>\n",
       "    </tr>\n",
       "    <tr>\n",
       "      <th>2018-05-10 00:00:00+00:00</th>\n",
       "      <td>97.91</td>\n",
       "      <td>97.9500</td>\n",
       "      <td>97.05</td>\n",
       "      <td>97.46</td>\n",
       "      <td>22388119</td>\n",
       "      <td>92.375829</td>\n",
       "      <td>92.413568</td>\n",
       "      <td>91.564439</td>\n",
       "      <td>91.951265</td>\n",
       "      <td>22388119</td>\n",
       "      <td>0.0</td>\n",
       "      <td>1.0</td>\n",
       "    </tr>\n",
       "    <tr>\n",
       "      <th>2018-05-11 00:00:00+00:00</th>\n",
       "      <td>97.70</td>\n",
       "      <td>97.8700</td>\n",
       "      <td>97.04</td>\n",
       "      <td>97.80</td>\n",
       "      <td>16778316</td>\n",
       "      <td>92.177699</td>\n",
       "      <td>92.338090</td>\n",
       "      <td>91.555004</td>\n",
       "      <td>92.272047</td>\n",
       "      <td>16778316</td>\n",
       "      <td>0.0</td>\n",
       "      <td>1.0</td>\n",
       "    </tr>\n",
       "    <tr>\n",
       "      <th>2018-05-14 00:00:00+00:00</th>\n",
       "      <td>98.03</td>\n",
       "      <td>98.6900</td>\n",
       "      <td>97.31</td>\n",
       "      <td>97.92</td>\n",
       "      <td>19454124</td>\n",
       "      <td>92.489046</td>\n",
       "      <td>93.111741</td>\n",
       "      <td>91.809743</td>\n",
       "      <td>92.385264</td>\n",
       "      <td>19454124</td>\n",
       "      <td>0.0</td>\n",
       "      <td>1.0</td>\n",
       "    </tr>\n",
       "    <tr>\n",
       "      <th>...</th>\n",
       "      <td>...</td>\n",
       "      <td>...</td>\n",
       "      <td>...</td>\n",
       "      <td>...</td>\n",
       "      <td>...</td>\n",
       "      <td>...</td>\n",
       "      <td>...</td>\n",
       "      <td>...</td>\n",
       "      <td>...</td>\n",
       "      <td>...</td>\n",
       "      <td>...</td>\n",
       "      <td>...</td>\n",
       "    </tr>\n",
       "    <tr>\n",
       "      <th>2023-05-01 00:00:00+00:00</th>\n",
       "      <td>305.56</td>\n",
       "      <td>308.6000</td>\n",
       "      <td>305.15</td>\n",
       "      <td>306.97</td>\n",
       "      <td>21294115</td>\n",
       "      <td>305.560000</td>\n",
       "      <td>308.600000</td>\n",
       "      <td>305.150000</td>\n",
       "      <td>306.970000</td>\n",
       "      <td>21294115</td>\n",
       "      <td>0.0</td>\n",
       "      <td>1.0</td>\n",
       "    </tr>\n",
       "    <tr>\n",
       "      <th>2023-05-02 00:00:00+00:00</th>\n",
       "      <td>305.41</td>\n",
       "      <td>309.1800</td>\n",
       "      <td>303.91</td>\n",
       "      <td>307.76</td>\n",
       "      <td>26404431</td>\n",
       "      <td>305.410000</td>\n",
       "      <td>309.180000</td>\n",
       "      <td>303.910000</td>\n",
       "      <td>307.760000</td>\n",
       "      <td>26404431</td>\n",
       "      <td>0.0</td>\n",
       "      <td>1.0</td>\n",
       "    </tr>\n",
       "    <tr>\n",
       "      <th>2023-05-03 00:00:00+00:00</th>\n",
       "      <td>304.40</td>\n",
       "      <td>308.6100</td>\n",
       "      <td>304.09</td>\n",
       "      <td>306.62</td>\n",
       "      <td>22360754</td>\n",
       "      <td>304.400000</td>\n",
       "      <td>308.610000</td>\n",
       "      <td>304.090000</td>\n",
       "      <td>306.620000</td>\n",
       "      <td>22360754</td>\n",
       "      <td>0.0</td>\n",
       "      <td>1.0</td>\n",
       "    </tr>\n",
       "    <tr>\n",
       "      <th>2023-05-04 00:00:00+00:00</th>\n",
       "      <td>305.41</td>\n",
       "      <td>307.7626</td>\n",
       "      <td>303.40</td>\n",
       "      <td>306.24</td>\n",
       "      <td>22519907</td>\n",
       "      <td>305.410000</td>\n",
       "      <td>307.762600</td>\n",
       "      <td>303.400000</td>\n",
       "      <td>306.240000</td>\n",
       "      <td>22519907</td>\n",
       "      <td>0.0</td>\n",
       "      <td>1.0</td>\n",
       "    </tr>\n",
       "    <tr>\n",
       "      <th>2023-05-05 00:00:00+00:00</th>\n",
       "      <td>310.65</td>\n",
       "      <td>311.9700</td>\n",
       "      <td>304.27</td>\n",
       "      <td>305.72</td>\n",
       "      <td>28197052</td>\n",
       "      <td>310.650000</td>\n",
       "      <td>311.970000</td>\n",
       "      <td>304.270000</td>\n",
       "      <td>305.720000</td>\n",
       "      <td>28197052</td>\n",
       "      <td>0.0</td>\n",
       "      <td>1.0</td>\n",
       "    </tr>\n",
       "  </tbody>\n",
       "</table>\n",
       "<p>1258 rows × 12 columns</p>\n",
       "</div>"
      ],
      "text/plain": [
       "                                   close      high     low    open    volume  \\\n",
       "symbol date                                                                    \n",
       "MSFT   2018-05-08 00:00:00+00:00   95.81   96.1600   95.06   95.85  23484589   \n",
       "       2018-05-09 00:00:00+00:00   96.94   96.9700   95.05   96.01  27327410   \n",
       "       2018-05-10 00:00:00+00:00   97.91   97.9500   97.05   97.46  22388119   \n",
       "       2018-05-11 00:00:00+00:00   97.70   97.8700   97.04   97.80  16778316   \n",
       "       2018-05-14 00:00:00+00:00   98.03   98.6900   97.31   97.92  19454124   \n",
       "...                                  ...       ...     ...     ...       ...   \n",
       "       2023-05-01 00:00:00+00:00  305.56  308.6000  305.15  306.97  21294115   \n",
       "       2023-05-02 00:00:00+00:00  305.41  309.1800  303.91  307.76  26404431   \n",
       "       2023-05-03 00:00:00+00:00  304.40  308.6100  304.09  306.62  22360754   \n",
       "       2023-05-04 00:00:00+00:00  305.41  307.7626  303.40  306.24  22519907   \n",
       "       2023-05-05 00:00:00+00:00  310.65  311.9700  304.27  305.72  28197052   \n",
       "\n",
       "                                    adjClose     adjHigh      adjLow  \\\n",
       "symbol date                                                            \n",
       "MSFT   2018-05-08 00:00:00+00:00   90.394528   90.724745   89.686920   \n",
       "       2018-05-09 00:00:00+00:00   91.460657   91.488961   89.677485   \n",
       "       2018-05-10 00:00:00+00:00   92.375829   92.413568   91.564439   \n",
       "       2018-05-11 00:00:00+00:00   92.177699   92.338090   91.555004   \n",
       "       2018-05-14 00:00:00+00:00   92.489046   93.111741   91.809743   \n",
       "...                                      ...         ...         ...   \n",
       "       2023-05-01 00:00:00+00:00  305.560000  308.600000  305.150000   \n",
       "       2023-05-02 00:00:00+00:00  305.410000  309.180000  303.910000   \n",
       "       2023-05-03 00:00:00+00:00  304.400000  308.610000  304.090000   \n",
       "       2023-05-04 00:00:00+00:00  305.410000  307.762600  303.400000   \n",
       "       2023-05-05 00:00:00+00:00  310.650000  311.970000  304.270000   \n",
       "\n",
       "                                     adjOpen  adjVolume  divCash  splitFactor  \n",
       "symbol date                                                                    \n",
       "MSFT   2018-05-08 00:00:00+00:00   90.432267   23484589      0.0          1.0  \n",
       "       2018-05-09 00:00:00+00:00   90.583223   27327410      0.0          1.0  \n",
       "       2018-05-10 00:00:00+00:00   91.951265   22388119      0.0          1.0  \n",
       "       2018-05-11 00:00:00+00:00   92.272047   16778316      0.0          1.0  \n",
       "       2018-05-14 00:00:00+00:00   92.385264   19454124      0.0          1.0  \n",
       "...                                      ...        ...      ...          ...  \n",
       "       2023-05-01 00:00:00+00:00  306.970000   21294115      0.0          1.0  \n",
       "       2023-05-02 00:00:00+00:00  307.760000   26404431      0.0          1.0  \n",
       "       2023-05-03 00:00:00+00:00  306.620000   22360754      0.0          1.0  \n",
       "       2023-05-04 00:00:00+00:00  306.240000   22519907      0.0          1.0  \n",
       "       2023-05-05 00:00:00+00:00  305.720000   28197052      0.0          1.0  \n",
       "\n",
       "[1258 rows x 12 columns]"
      ]
     },
     "execution_count": 298,
     "metadata": {},
     "output_type": "execute_result"
    }
   ],
   "source": [
    "stock_data = pdr.get_data_tiingo('MSFT', api_key=API_KEY)\n",
    "stock_data"
   ]
  },
  {
   "cell_type": "code",
   "execution_count": 299,
   "metadata": {},
   "outputs": [
    {
     "data": {
      "text/plain": [
       "0        95.81\n",
       "1        96.94\n",
       "2        97.91\n",
       "3        97.70\n",
       "4        98.03\n",
       "         ...  \n",
       "1253    305.56\n",
       "1254    305.41\n",
       "1255    304.40\n",
       "1256    305.41\n",
       "1257    310.65\n",
       "Name: close, Length: 1258, dtype: float64"
      ]
     },
     "execution_count": 299,
     "metadata": {},
     "output_type": "execute_result"
    }
   ],
   "source": [
    "df=stock_data.reset_index()['close']\n",
    "df"
   ]
  },
  {
   "cell_type": "code",
   "execution_count": 300,
   "metadata": {},
   "outputs": [
    {
     "data": {
      "text/plain": [
       "[<matplotlib.lines.Line2D at 0x18a030dd060>]"
      ]
     },
     "execution_count": 300,
     "metadata": {},
     "output_type": "execute_result"
    },
    {
     "data": {
      "image/png": "[encoded data removed]",
      "text/plain": [
       "<Figure size 640x480 with 1 Axes>"
      ]
     },
     "metadata": {},
     "output_type": "display_data"
    }
   ],
   "source": [
    "plt.plot(df)"
   ]
  },
  {
   "cell_type": "code",
   "execution_count": 301,
   "metadata": {},
   "outputs": [
    {
     "data": {
      "text/plain": [
       "array([[0.00674753],\n",
       "       [0.01128605],\n",
       "       [0.01518194],\n",
       "       ...,\n",
       "       [0.84452566],\n",
       "       [0.84858222],\n",
       "       [0.86962808]])"
      ]
     },
     "execution_count": 301,
     "metadata": {},
     "output_type": "execute_result"
    }
   ],
   "source": [
    "scaler = MinMaxScaler(feature_range=(0, 1))\n",
    "df = scaler.fit_transform(np.array(df).reshape(-1, 1))\n",
    "df"
   ]
  },
  {
   "cell_type": "code",
   "execution_count": 302,
   "metadata": {},
   "outputs": [
    {
     "data": {
      "text/plain": [
       "(817, 441)"
      ]
     },
     "execution_count": 302,
     "metadata": {},
     "output_type": "execute_result"
    }
   ],
   "source": [
    "training_size = int(len(df) * 0.65)\n",
    "test_size = len(df) - training_size\n",
    "train_data, test_data = df[0:training_size,:], df[training_size:len(df), :1]\n",
    "training_size, test_size"
   ]
  },
  {
   "cell_type": "code",
   "execution_count": 303,
   "metadata": {},
   "outputs": [],
   "source": [
    "def create_dataset(dataset, time_step=1):\n",
    "\tdataX, dataY = [], []\n",
    "\tfor i in range(len(dataset)-time_step-1):\n",
    "\t\ta = dataset[i:(i+time_step), 0]\n",
    "\t\tdataX.append(a)\n",
    "\t\tdataY.append(dataset[i + time_step, 0])\n",
    "\treturn np.array(dataX), np.array(dataY)"
   ]
  },
  {
   "cell_type": "code",
   "execution_count": 304,
   "metadata": {},
   "outputs": [
    {
     "data": {
      "text/plain": [
       "((716, 100), (716,), (340, 100), (340,))"
      ]
     },
     "execution_count": 304,
     "metadata": {},
     "output_type": "execute_result"
    }
   ],
   "source": [
    "time_step = 100\n",
    "X_train, y_train = create_dataset(train_data, time_step)\n",
    "X_test, y_test = create_dataset(test_data, time_step)\n",
    "X_train.shape, y_train.shape, X_test.shape, y_test.shape"
   ]
  },
  {
   "cell_type": "code",
   "execution_count": 305,
   "metadata": {},
   "outputs": [],
   "source": [
    "X_train = X_train.reshape(X_train.shape[0],X_train.shape[1] , 1)\n",
    "X_test = X_test.reshape(X_test.shape[0],X_test.shape[1] , 1)"
   ]
  },
  {
   "cell_type": "code",
   "execution_count": 306,
   "metadata": {},
   "outputs": [
    {
     "name": "stdout",
     "output_type": "stream",
     "text": [
      "Model: \"sequential_6\"\n",
      "_________________________________________________________________\n",
      " Layer (type)                Output Shape              Param #   \n",
      "=================================================================\n",
      " lstm_18 (LSTM)              (None, 100, 50)           10400     \n",
      "                                                                 \n",
      " lstm_19 (LSTM)              (None, 100, 50)           20200     \n",
      "                                                                 \n",
      " lstm_20 (LSTM)              (None, 50)                20200     \n",
      "                                                                 \n",
      " dense_6 (Dense)             (None, 1)                 51        \n",
      "                                                                 \n",
      "=================================================================\n",
      "Total params: 50,851\n",
      "Trainable params: 50,851\n",
      "Non-trainable params: 0\n",
      "_________________________________________________________________\n"
     ]
    }
   ],
   "source": [
    "model=Sequential()\n",
    "model.add(LSTM(50,return_sequences=True,input_shape=(100,1)))\n",
    "model.add(LSTM(50,return_sequences=True))\n",
    "model.add(LSTM(50))\n",
    "model.add(Dense(1))\n",
    "model.compile(loss='mean_squared_error',optimizer='adam')\n",
    "model.summary()"
   ]
  },
  {
   "cell_type": "code",
   "execution_count": 307,
   "metadata": {},
   "outputs": [
    {
     "name": "stdout",
     "output_type": "stream",
     "text": [
      "Epoch 1/100\n",
      "12/12 [==============================] - 7s 238ms/step - loss: 0.0530 - val_loss: 0.0118\n",
      "Epoch 2/100\n",
      "12/12 [==============================] - 2s 150ms/step - loss: 0.0092 - val_loss: 0.0050\n",
      "Epoch 3/100\n",
      "12/12 [==============================] - 2s 152ms/step - loss: 0.0029 - val_loss: 0.0058\n",
      "Epoch 4/100\n",
      "12/12 [==============================] - 2s 149ms/step - loss: 0.0014 - val_loss: 0.0056\n",
      "Epoch 5/100\n",
      "12/12 [==============================] - 2s 148ms/step - loss: 0.0011 - val_loss: 0.0032\n",
      "Epoch 6/100\n",
      "12/12 [==============================] - 2s 148ms/step - loss: 0.0010 - val_loss: 0.0032\n",
      "Epoch 7/100\n",
      "12/12 [==============================] - 2s 150ms/step - loss: 0.0011 - val_loss: 0.0044\n",
      "Epoch 8/100\n",
      "12/12 [==============================] - 2s 148ms/step - loss: 0.0010 - val_loss: 0.0055\n",
      "Epoch 9/100\n",
      "12/12 [==============================] - 2s 149ms/step - loss: 0.0011 - val_loss: 0.0044\n",
      "Epoch 10/100\n",
      "12/12 [==============================] - 2s 149ms/step - loss: 9.6181e-04 - val_loss: 0.0033\n",
      "Epoch 11/100\n",
      "12/12 [==============================] - 2s 150ms/step - loss: 0.0010 - val_loss: 0.0033\n",
      "Epoch 12/100\n",
      "12/12 [==============================] - 2s 149ms/step - loss: 0.0010 - val_loss: 0.0029\n",
      "Epoch 13/100\n",
      "12/12 [==============================] - 2s 149ms/step - loss: 9.3689e-04 - val_loss: 0.0030\n",
      "Epoch 14/100\n",
      "12/12 [==============================] - 2s 152ms/step - loss: 9.5591e-04 - val_loss: 0.0032\n",
      "Epoch 15/100\n",
      "12/12 [==============================] - 2s 160ms/step - loss: 8.9306e-04 - val_loss: 0.0030\n",
      "Epoch 16/100\n",
      "12/12 [==============================] - 2s 156ms/step - loss: 8.9550e-04 - val_loss: 0.0028\n",
      "Epoch 17/100\n",
      "12/12 [==============================] - 2s 164ms/step - loss: 8.8304e-04 - val_loss: 0.0034\n",
      "Epoch 18/100\n",
      "12/12 [==============================] - 2s 155ms/step - loss: 9.2214e-04 - val_loss: 0.0029\n",
      "Epoch 19/100\n",
      "12/12 [==============================] - 2s 155ms/step - loss: 9.2273e-04 - val_loss: 0.0030\n",
      "Epoch 20/100\n",
      "12/12 [==============================] - 2s 154ms/step - loss: 8.9427e-04 - val_loss: 0.0047\n",
      "Epoch 21/100\n",
      "12/12 [==============================] - 2s 154ms/step - loss: 9.8882e-04 - val_loss: 0.0028\n",
      "Epoch 22/100\n",
      "12/12 [==============================] - 2s 155ms/step - loss: 8.4577e-04 - val_loss: 0.0029\n",
      "Epoch 23/100\n",
      "12/12 [==============================] - 2s 152ms/step - loss: 8.2908e-04 - val_loss: 0.0029\n",
      "Epoch 24/100\n",
      "12/12 [==============================] - 2s 153ms/step - loss: 8.2855e-04 - val_loss: 0.0025\n",
      "Epoch 25/100\n",
      "12/12 [==============================] - 2s 150ms/step - loss: 8.2303e-04 - val_loss: 0.0025\n",
      "Epoch 26/100\n",
      "12/12 [==============================] - 2s 151ms/step - loss: 8.1372e-04 - val_loss: 0.0028\n",
      "Epoch 27/100\n",
      "12/12 [==============================] - 2s 148ms/step - loss: 8.1197e-04 - val_loss: 0.0025\n",
      "Epoch 28/100\n",
      "12/12 [==============================] - 2s 153ms/step - loss: 7.9246e-04 - val_loss: 0.0024\n",
      "Epoch 29/100\n",
      "12/12 [==============================] - 2s 151ms/step - loss: 7.7564e-04 - val_loss: 0.0026\n",
      "Epoch 30/100\n",
      "12/12 [==============================] - 2s 148ms/step - loss: 7.7838e-04 - val_loss: 0.0023\n",
      "Epoch 31/100\n",
      "12/12 [==============================] - 2s 159ms/step - loss: 7.9243e-04 - val_loss: 0.0023\n",
      "Epoch 32/100\n",
      "12/12 [==============================] - 2s 152ms/step - loss: 7.5052e-04 - val_loss: 0.0033\n",
      "Epoch 33/100\n",
      "12/12 [==============================] - 2s 154ms/step - loss: 8.4320e-04 - val_loss: 0.0022\n",
      "Epoch 34/100\n",
      "12/12 [==============================] - 2s 153ms/step - loss: 7.4193e-04 - val_loss: 0.0024\n",
      "Epoch 35/100\n",
      "12/12 [==============================] - 2s 147ms/step - loss: 7.8744e-04 - val_loss: 0.0033\n",
      "Epoch 36/100\n",
      "12/12 [==============================] - 2s 147ms/step - loss: 7.4855e-04 - val_loss: 0.0024\n",
      "Epoch 37/100\n",
      "12/12 [==============================] - 2s 147ms/step - loss: 6.9176e-04 - val_loss: 0.0021\n",
      "Epoch 38/100\n",
      "12/12 [==============================] - 2s 144ms/step - loss: 7.4418e-04 - val_loss: 0.0025\n",
      "Epoch 39/100\n",
      "12/12 [==============================] - 2s 146ms/step - loss: 6.6654e-04 - val_loss: 0.0020\n",
      "Epoch 40/100\n",
      "12/12 [==============================] - 2s 159ms/step - loss: 6.5823e-04 - val_loss: 0.0025\n",
      "Epoch 41/100\n",
      "12/12 [==============================] - 2s 150ms/step - loss: 6.7775e-04 - val_loss: 0.0028\n",
      "Epoch 42/100\n",
      "12/12 [==============================] - 2s 145ms/step - loss: 7.0337e-04 - val_loss: 0.0020\n",
      "Epoch 43/100\n",
      "12/12 [==============================] - 2s 157ms/step - loss: 6.6289e-04 - val_loss: 0.0019\n",
      "Epoch 44/100\n",
      "12/12 [==============================] - 2s 179ms/step - loss: 6.0580e-04 - val_loss: 0.0030\n",
      "Epoch 45/100\n",
      "12/12 [==============================] - 2s 168ms/step - loss: 6.6553e-04 - val_loss: 0.0019\n",
      "Epoch 46/100\n",
      "12/12 [==============================] - 2s 171ms/step - loss: 5.8089e-04 - val_loss: 0.0018\n",
      "Epoch 47/100\n",
      "12/12 [==============================] - 2s 167ms/step - loss: 6.1245e-04 - val_loss: 0.0018\n",
      "Epoch 48/100\n",
      "12/12 [==============================] - 2s 165ms/step - loss: 5.5125e-04 - val_loss: 0.0022\n",
      "Epoch 49/100\n",
      "12/12 [==============================] - 2s 165ms/step - loss: 5.7602e-04 - val_loss: 0.0032\n",
      "Epoch 50/100\n",
      "12/12 [==============================] - 2s 152ms/step - loss: 7.8374e-04 - val_loss: 0.0018\n",
      "Epoch 51/100\n",
      "12/12 [==============================] - 2s 147ms/step - loss: 6.0515e-04 - val_loss: 0.0029\n",
      "Epoch 52/100\n",
      "12/12 [==============================] - 2s 149ms/step - loss: 6.0195e-04 - val_loss: 0.0017\n",
      "Epoch 53/100\n",
      "12/12 [==============================] - 2s 147ms/step - loss: 5.1968e-04 - val_loss: 0.0019\n",
      "Epoch 54/100\n",
      "12/12 [==============================] - 2s 146ms/step - loss: 5.0358e-04 - val_loss: 0.0017\n",
      "Epoch 55/100\n",
      "12/12 [==============================] - 2s 147ms/step - loss: 4.7597e-04 - val_loss: 0.0018\n",
      "Epoch 56/100\n",
      "12/12 [==============================] - 2s 146ms/step - loss: 5.2650e-04 - val_loss: 0.0022\n",
      "Epoch 57/100\n",
      "12/12 [==============================] - 2s 148ms/step - loss: 5.0391e-04 - val_loss: 0.0017\n",
      "Epoch 58/100\n",
      "12/12 [==============================] - 2s 146ms/step - loss: 4.6857e-04 - val_loss: 0.0025\n",
      "Epoch 59/100\n",
      "12/12 [==============================] - 2s 146ms/step - loss: 4.9050e-04 - val_loss: 0.0020\n",
      "Epoch 60/100\n",
      "12/12 [==============================] - 2s 147ms/step - loss: 5.4865e-04 - val_loss: 0.0019\n",
      "Epoch 61/100\n",
      "12/12 [==============================] - 2s 148ms/step - loss: 6.8116e-04 - val_loss: 0.0030\n",
      "Epoch 62/100\n",
      "12/12 [==============================] - 2s 145ms/step - loss: 4.9903e-04 - val_loss: 0.0017\n",
      "Epoch 63/100\n",
      "12/12 [==============================] - 2s 146ms/step - loss: 5.9608e-04 - val_loss: 0.0016\n",
      "Epoch 64/100\n",
      "12/12 [==============================] - 2s 150ms/step - loss: 6.0446e-04 - val_loss: 0.0021\n",
      "Epoch 65/100\n",
      "12/12 [==============================] - 2s 148ms/step - loss: 5.0317e-04 - val_loss: 0.0016\n",
      "Epoch 66/100\n",
      "12/12 [==============================] - 2s 148ms/step - loss: 4.5179e-04 - val_loss: 0.0016\n",
      "Epoch 67/100\n",
      "12/12 [==============================] - 2s 146ms/step - loss: 4.4733e-04 - val_loss: 0.0025\n",
      "Epoch 68/100\n",
      "12/12 [==============================] - 2s 147ms/step - loss: 4.6143e-04 - val_loss: 0.0016\n",
      "Epoch 69/100\n",
      "12/12 [==============================] - 2s 149ms/step - loss: 4.8139e-04 - val_loss: 0.0022\n",
      "Epoch 70/100\n",
      "12/12 [==============================] - 2s 150ms/step - loss: 5.1882e-04 - val_loss: 0.0015\n",
      "Epoch 71/100\n",
      "12/12 [==============================] - 2s 146ms/step - loss: 4.4045e-04 - val_loss: 0.0015\n",
      "Epoch 72/100\n",
      "12/12 [==============================] - 2s 146ms/step - loss: 4.2136e-04 - val_loss: 0.0015\n",
      "Epoch 73/100\n",
      "12/12 [==============================] - 2s 146ms/step - loss: 4.1631e-04 - val_loss: 0.0017\n",
      "Epoch 74/100\n",
      "12/12 [==============================] - 2s 147ms/step - loss: 4.0316e-04 - val_loss: 0.0016\n",
      "Epoch 75/100\n",
      "12/12 [==============================] - 2s 146ms/step - loss: 4.6492e-04 - val_loss: 0.0018\n",
      "Epoch 76/100\n",
      "12/12 [==============================] - 2s 146ms/step - loss: 4.4185e-04 - val_loss: 0.0016\n",
      "Epoch 77/100\n",
      "12/12 [==============================] - 2s 147ms/step - loss: 4.2481e-04 - val_loss: 0.0018\n",
      "Epoch 78/100\n",
      "12/12 [==============================] - 2s 147ms/step - loss: 4.0519e-04 - val_loss: 0.0015\n",
      "Epoch 79/100\n",
      "12/12 [==============================] - 2s 146ms/step - loss: 4.2069e-04 - val_loss: 0.0030\n",
      "Epoch 80/100\n",
      "12/12 [==============================] - 2s 149ms/step - loss: 4.6106e-04 - val_loss: 0.0014\n",
      "Epoch 81/100\n",
      "12/12 [==============================] - 2s 147ms/step - loss: 4.0238e-04 - val_loss: 0.0014\n",
      "Epoch 82/100\n",
      "12/12 [==============================] - 2s 148ms/step - loss: 4.2257e-04 - val_loss: 0.0013\n",
      "Epoch 83/100\n",
      "12/12 [==============================] - 2s 145ms/step - loss: 4.6767e-04 - val_loss: 0.0015\n",
      "Epoch 84/100\n",
      "12/12 [==============================] - 2s 147ms/step - loss: 3.8834e-04 - val_loss: 0.0014\n",
      "Epoch 85/100\n",
      "12/12 [==============================] - 2s 147ms/step - loss: 3.9358e-04 - val_loss: 0.0013\n",
      "Epoch 86/100\n",
      "12/12 [==============================] - 2s 147ms/step - loss: 4.3524e-04 - val_loss: 0.0017\n",
      "Epoch 87/100\n",
      "12/12 [==============================] - 2s 147ms/step - loss: 3.9084e-04 - val_loss: 0.0024\n",
      "Epoch 88/100\n",
      "12/12 [==============================] - 2s 146ms/step - loss: 4.5945e-04 - val_loss: 0.0015\n",
      "Epoch 89/100\n",
      "12/12 [==============================] - 2s 152ms/step - loss: 4.4504e-04 - val_loss: 0.0013\n",
      "Epoch 90/100\n",
      "12/12 [==============================] - 2s 147ms/step - loss: 3.9264e-04 - val_loss: 0.0018\n",
      "Epoch 91/100\n",
      "12/12 [==============================] - 2s 147ms/step - loss: 3.7010e-04 - val_loss: 0.0012\n",
      "Epoch 92/100\n",
      "12/12 [==============================] - 2s 146ms/step - loss: 3.6388e-04 - val_loss: 0.0020\n",
      "Epoch 93/100\n",
      "12/12 [==============================] - 2s 147ms/step - loss: 3.8600e-04 - val_loss: 0.0018\n",
      "Epoch 94/100\n",
      "12/12 [==============================] - 2s 164ms/step - loss: 3.8849e-04 - val_loss: 0.0013\n",
      "Epoch 95/100\n",
      "12/12 [==============================] - 2s 162ms/step - loss: 3.4524e-04 - val_loss: 0.0012\n",
      "Epoch 96/100\n",
      "12/12 [==============================] - 2s 163ms/step - loss: 3.4156e-04 - val_loss: 0.0028\n",
      "Epoch 97/100\n",
      "12/12 [==============================] - 2s 172ms/step - loss: 4.2567e-04 - val_loss: 0.0016\n",
      "Epoch 98/100\n",
      "12/12 [==============================] - 2s 164ms/step - loss: 4.4495e-04 - val_loss: 0.0011\n",
      "Epoch 99/100\n",
      "12/12 [==============================] - 2s 172ms/step - loss: 3.7373e-04 - val_loss: 0.0011\n",
      "Epoch 100/100\n",
      "12/12 [==============================] - 2s 176ms/step - loss: 3.3237e-04 - val_loss: 0.0015\n"
     ]
    },
    {
     "data": {
      "text/plain": [
       "<keras.callbacks.History at 0x18a94853790>"
      ]
     },
     "execution_count": 307,
     "metadata": {},
     "output_type": "execute_result"
    }
   ],
   "source": [
    "model.fit(X_train,y_train, validation_data=(X_test,y_test), epochs=100, batch_size=64, verbose=1)"
   ]
  },
  {
   "cell_type": "code",
   "execution_count": 308,
   "metadata": {},
   "outputs": [
    {
     "name": "stdout",
     "output_type": "stream",
     "text": [
      "23/23 [==============================] - 2s 32ms/step\n",
      "11/11 [==============================] - 0s 34ms/step\n"
     ]
    }
   ],
   "source": [
    "train_predict = model.predict(X_train)\n",
    "test_predict = model.predict(X_test)"
   ]
  },
  {
   "cell_type": "code",
   "execution_count": 309,
   "metadata": {},
   "outputs": [],
   "source": [
    "train_predict = scaler.inverse_transform(train_predict)\n",
    "test_predict = scaler.inverse_transform(test_predict)"
   ]
  },
  {
   "cell_type": "code",
   "execution_count": 310,
   "metadata": {},
   "outputs": [
    {
     "data": {
      "text/plain": [
       "183.18950762958778"
      ]
     },
     "execution_count": 310,
     "metadata": {},
     "output_type": "execute_result"
    }
   ],
   "source": [
    "math.sqrt(mean_squared_error(y_train,train_predict))"
   ]
  },
  {
   "cell_type": "code",
   "execution_count": 311,
   "metadata": {},
   "outputs": [
    {
     "data": {
      "text/plain": [
       "274.3051456886892"
      ]
     },
     "execution_count": 311,
     "metadata": {},
     "output_type": "execute_result"
    }
   ],
   "source": [
    "math.sqrt(mean_squared_error(y_test,test_predict))"
   ]
  },
  {
   "cell_type": "code",
   "execution_count": 312,
   "metadata": {},
   "outputs": [
    {
     "data": {
      "image/png": "[encoded data removed]",
      "text/plain": [
       "<Figure size 640x480 with 1 Axes>"
      ]
     },
     "metadata": {},
     "output_type": "display_data"
    }
   ],
   "source": [
    "look_back=100\n",
    "trainPredictPlot = np.empty_like(df)\n",
    "trainPredictPlot[:, :] = np.nan\n",
    "trainPredictPlot[look_back:len(train_predict)+look_back, :] = train_predict\n",
    "testPredictPlot = np.empty_like(df)\n",
    "testPredictPlot[:, :] = np.nan\n",
    "testPredictPlot[len(train_predict)+(look_back*2)+1:len(df)-1, :] = test_predict\n",
    "plt.plot(scaler.inverse_transform(df))\n",
    "plt.plot(trainPredictPlot)\n",
    "plt.plot(testPredictPlot)\n",
    "plt.show()"
   ]
  },
  {
   "cell_type": "code",
   "execution_count": 313,
   "metadata": {},
   "outputs": [
    {
     "data": {
      "text/plain": [
       "1258"
      ]
     },
     "execution_count": 313,
     "metadata": {},
     "output_type": "execute_result"
    }
   ],
   "source": [
    "len(df)"
   ]
  },
  {
   "cell_type": "code",
   "execution_count": 314,
   "metadata": {},
   "outputs": [
    {
     "data": {
      "text/plain": [
       "array([[0.63611535, 0.65382762, 0.65503253, 0.622058  , 0.60470721,\n",
       "        0.58767773, 0.59309985, 0.60366294, 0.57860069, 0.58076954,\n",
       "        0.57366053, 0.56390071, 0.5899269 , 0.5851474 , 0.58418347,\n",
       "        0.54209173, 0.51482047, 0.5253434 , 0.53413929, 0.54108764,\n",
       "        0.56888103, 0.57988593, 0.58277773, 0.58727609, 0.56904169,\n",
       "        0.55345811, 0.58675396, 0.59623263, 0.59406378, 0.58832035,\n",
       "        0.61800145, 0.61864407, 0.59675476, 0.61723833, 0.63707928,\n",
       "        0.68467347, 0.65957105, 0.65322516, 0.69656197, 0.69322837,\n",
       "        0.68073741, 0.67864889, 0.71166359, 0.71507752, 0.70363081,\n",
       "        0.67483332, 0.6584063 , 0.63675797, 0.63209896, 0.64519238,\n",
       "        0.62290144, 0.62667684, 0.62370472, 0.6110531 , 0.63049241,\n",
       "        0.64728091, 0.6536268 , 0.64270223, 0.64089485, 0.63535224,\n",
       "        0.62037111, 0.64177846, 0.66937103, 0.68804723, 0.73126356,\n",
       "        0.74423648, 0.7153185 , 0.7215439 , 0.71555948, 0.73712748,\n",
       "        0.74881517, 0.7319865 , 0.72736766, 0.74857418, 0.76279219,\n",
       "        0.77986184, 0.7755643 , 0.77536348, 0.76395694, 0.79311591,\n",
       "        0.7842397 , 0.7578922 , 0.76054302, 0.78604707, 0.77118644,\n",
       "        0.78187003, 0.78014298, 0.78046429, 0.77106595, 0.76966021,\n",
       "        0.75363483, 0.72813077, 0.80825769, 0.84625271, 0.85601253,\n",
       "        0.84918467, 0.84858222, 0.84452566, 0.84858222, 0.86962808]])"
      ]
     },
     "execution_count": 314,
     "metadata": {},
     "output_type": "execute_result"
    }
   ],
   "source": [
    "x_input = df[len(df) - 100:].reshape(1, -1)\n",
    "x_input"
   ]
  },
  {
   "cell_type": "code",
   "execution_count": 315,
   "metadata": {},
   "outputs": [
    {
     "data": {
      "text/plain": [
       "[0.6361153506305726,\n",
       " 0.6538276166760382,\n",
       " 0.6550325327335529,\n",
       " 0.622057996626235,\n",
       " 0.6047072053980238,\n",
       " 0.5876777251184833,\n",
       " 0.5930998473772994,\n",
       " 0.6036629448148445,\n",
       " 0.5786006908185396,\n",
       " 0.5807695397220659,\n",
       " 0.5736605349827295,\n",
       " 0.5639007149168608,\n",
       " 0.5899269017591774,\n",
       " 0.5851474013977025,\n",
       " 0.5841834685516909,\n",
       " 0.5420917342758453,\n",
       " 0.5148204675074303,\n",
       " 0.5253434010763917,\n",
       " 0.5341392882962487,\n",
       " 0.5410876375612498,\n",
       " 0.5688810346212547,\n",
       " 0.5798859346132218,\n",
       " 0.582777733151257,\n",
       " 0.5872760864326451,\n",
       " 0.5690416900955899,\n",
       " 0.553458109085067,\n",
       " 0.5867539561410554,\n",
       " 0.5962326291268375,\n",
       " 0.594063780223311,\n",
       " 0.5883203470158246,\n",
       " 0.618001445899269,\n",
       " 0.6186440677966101,\n",
       " 0.5967547594184271,\n",
       " 0.6172383323961763,\n",
       " 0.6370792834765844,\n",
       " 0.6846734677484136,\n",
       " 0.6595710498835248,\n",
       " 0.6532251586472808,\n",
       " 0.6965619728492247,\n",
       " 0.6932283717567675,\n",
       " 0.6807374086271989,\n",
       " 0.6786488874608403,\n",
       " 0.7116635874367419,\n",
       " 0.7150775162663667,\n",
       " 0.7036308137199774,\n",
       " 0.6748333199453769,\n",
       " 0.6584062976945939,\n",
       " 0.6367579725279138,\n",
       " 0.6320989637721903,\n",
       " 0.6451923849305166,\n",
       " 0.6229014378664952,\n",
       " 0.6266768415133745,\n",
       " 0.6237047152381716,\n",
       " 0.6110530966342678,\n",
       " 0.6304924090288377,\n",
       " 0.6472809060968752,\n",
       " 0.6536267973331191,\n",
       " 0.6427022250783194,\n",
       " 0.6408948509920473,\n",
       " 0.63535223712748,\n",
       " 0.6203711141457144,\n",
       " 0.6417784561008915,\n",
       " 0.6693710338179772,\n",
       " 0.6880472327094544,\n",
       " 0.731263555305647,\n",
       " 0.7442364848582215,\n",
       " 0.7153184994778696,\n",
       " 0.721543899108362,\n",
       " 0.7155594826893728,\n",
       " 0.737127480118885,\n",
       " 0.7488151658767772,\n",
       " 0.7319865049401557,\n",
       " 0.7273676600530163,\n",
       " 0.7485741826652741,\n",
       " 0.7627921921439473,\n",
       " 0.7798618362920715,\n",
       " 0.7755643023536027,\n",
       " 0.7753634830106835,\n",
       " 0.763956944332878,\n",
       " 0.7931159129247329,\n",
       " 0.7842396979677082,\n",
       " 0.7578922001767208,\n",
       " 0.7605430155032533,\n",
       " 0.7860470720539801,\n",
       " 0.771186440677966,\n",
       " 0.7818700297212626,\n",
       " 0.7801429833721583,\n",
       " 0.7804642943208289,\n",
       " 0.7710659490722147,\n",
       " 0.7696602136717807,\n",
       " 0.7536348301068356,\n",
       " 0.7281307735561089,\n",
       " 0.8082576913808337,\n",
       " 0.8462527110611293,\n",
       " 0.8560125311269979,\n",
       " 0.8491846734677484,\n",
       " 0.848582215438991,\n",
       " 0.844525664712025,\n",
       " 0.848582215438991,\n",
       " 0.8696280825769136]"
      ]
     },
     "execution_count": 315,
     "metadata": {},
     "output_type": "execute_result"
    }
   ],
   "source": [
    "temp_input=list(x_input)\n",
    "temp_input=temp_input[0].tolist()\n",
    "temp_input"
   ]
  },
  {
   "cell_type": "code",
   "execution_count": 316,
   "metadata": {},
   "outputs": [
    {
     "data": {
      "text/plain": [
       "[[0.8734973073005676],\n",
       " [0.8740571737289429],\n",
       " [0.8756327033042908],\n",
       " [0.8776585459709167],\n",
       " [0.879686176776886],\n",
       " [0.8815119862556458],\n",
       " [0.8831097483634949],\n",
       " [0.8845362067222595],\n",
       " [0.8858713507652283],\n",
       " [0.8871926069259644],\n",
       " [0.888562798500061],\n",
       " [0.8900336623191833],\n",
       " [0.8916454911231995],\n",
       " [0.8934295177459717],\n",
       " [0.8954101800918579],\n",
       " [0.8976033329963684],\n",
       " [0.900020182132721],\n",
       " [0.9026625752449036],\n",
       " [0.9055274724960327],\n",
       " [0.9086057543754578],\n",
       " [0.9118858575820923],\n",
       " [0.915350079536438],\n",
       " [0.9189795255661011],\n",
       " [0.9227529764175415],\n",
       " [0.9266477227210999],\n",
       " [0.9306405186653137],\n",
       " [0.9347078204154968],\n",
       " [0.938825786113739],\n",
       " [0.9429726600646973],\n",
       " [0.9471288919448853]]"
      ]
     },
     "execution_count": 316,
     "metadata": {},
     "output_type": "execute_result"
    }
   ],
   "source": [
    "lst_output=[]\n",
    "n_steps=100\n",
    "i=0\n",
    "while(i<30):\n",
    "    if(len(temp_input)>100):\n",
    "        x_input=np.array(temp_input[1:])\n",
    "        x_input=x_input.reshape(1,-1)\n",
    "        x_input = x_input.reshape((1, n_steps, 1))\n",
    "        yhat = model.predict(x_input, verbose=0)\n",
    "        temp_input.extend(yhat[0].tolist())\n",
    "        temp_input=temp_input[1:]\n",
    "        lst_output.extend(yhat.tolist())\n",
    "    else:\n",
    "        x_input = x_input.reshape((1, n_steps, 1))\n",
    "        yhat = model.predict(x_input, verbose=0)\n",
    "        temp_input.extend(yhat[0].tolist())\n",
    "        lst_output.extend(yhat.tolist())\n",
    "    i+=1\n",
    "lst_output"
   ]
  },
  {
   "cell_type": "code",
   "execution_count": 317,
   "metadata": {},
   "outputs": [],
   "source": [
    "day_new=np.arange(1,101)\n",
    "day_pred=np.arange(101,131)"
   ]
  },
  {
   "cell_type": "code",
   "execution_count": 318,
   "metadata": {},
   "outputs": [
    {
     "data": {
      "text/plain": [
       "1258"
      ]
     },
     "execution_count": 318,
     "metadata": {},
     "output_type": "execute_result"
    }
   ],
   "source": [
    "len(df)"
   ]
  },
  {
   "cell_type": "code",
   "execution_count": 319,
   "metadata": {},
   "outputs": [
    {
     "data": {
      "text/plain": [
       "[<matplotlib.lines.Line2D at 0x18a995eaf50>]"
      ]
     },
     "execution_count": 319,
     "metadata": {},
     "output_type": "execute_result"
    },
    {
     "data": {
      "image/png": "[encoded data removed]",
      "text/plain": [
       "<Figure size 640x480 with 1 Axes>"
      ]
     },
     "metadata": {},
     "output_type": "display_data"
    }
   ],
   "source": [
    "plt.plot(day_new, scaler.inverse_transform(df[1158:]))\n",
    "plt.plot(day_pred, scaler.inverse_transform(lst_output))"
   ]
  },
  {
   "cell_type": "code",
   "execution_count": 320,
   "metadata": {},
   "outputs": [
    {
     "data": {
      "text/plain": [
       "array([[0.87349731, 0.87405717, 0.8756327 , 0.87765855, 0.87968618,\n",
       "        0.88151199, 0.88310975, 0.88453621, 0.88587135, 0.88719261,\n",
       "        0.8885628 , 0.89003366, 0.89164549, 0.89342952, 0.89541018,\n",
       "        0.89760333, 0.90002018, 0.90266258, 0.90552747, 0.90860575,\n",
       "        0.91188586, 0.91535008, 0.91897953, 0.92275298, 0.92664772,\n",
       "        0.93064052, 0.93470782, 0.93882579, 0.94297266, 0.94712889]])"
      ]
     },
     "execution_count": 320,
     "metadata": {},
     "output_type": "execute_result"
    }
   ],
   "source": [
    "np.array(lst_output).reshape(1, -1)"
   ]
  },
  {
   "cell_type": "code",
   "execution_count": 321,
   "metadata": {},
   "outputs": [
    {
     "data": {
      "text/plain": [
       "[[0.8734973073005676],\n",
       " [0.8740571737289429],\n",
       " [0.8756327033042908],\n",
       " [0.8776585459709167],\n",
       " [0.879686176776886],\n",
       " [0.8815119862556458],\n",
       " [0.8831097483634949],\n",
       " [0.8845362067222595],\n",
       " [0.8858713507652283],\n",
       " [0.8871926069259644],\n",
       " [0.888562798500061],\n",
       " [0.8900336623191833],\n",
       " [0.8916454911231995],\n",
       " [0.8934295177459717],\n",
       " [0.8954101800918579],\n",
       " [0.8976033329963684],\n",
       " [0.900020182132721],\n",
       " [0.9026625752449036],\n",
       " [0.9055274724960327],\n",
       " [0.9086057543754578],\n",
       " [0.9118858575820923],\n",
       " [0.915350079536438],\n",
       " [0.9189795255661011],\n",
       " [0.9227529764175415],\n",
       " [0.9266477227210999],\n",
       " [0.9306405186653137],\n",
       " [0.9347078204154968],\n",
       " [0.938825786113739],\n",
       " [0.9429726600646973],\n",
       " [0.9471288919448853]]"
      ]
     },
     "execution_count": 321,
     "metadata": {},
     "output_type": "execute_result"
    }
   ],
   "source": [
    "lst_output"
   ]
  },
  {
   "cell_type": "code",
   "execution_count": 322,
   "metadata": {},
   "outputs": [
    {
     "data": {
      "text/plain": [
       "[<matplotlib.lines.Line2D at 0x18a99585cc0>]"
      ]
     },
     "execution_count": 322,
     "metadata": {},
     "output_type": "execute_result"
    },
    {
     "data": {
      "image/png": "[encoded data removed]",
      "text/plain": [
       "<Figure size 640x480 with 1 Axes>"
      ]
     },
     "metadata": {},
     "output_type": "display_data"
    }
   ],
   "source": [
    "plt.plot(range(len(df)), scaler.inverse_transform(df))\n",
    "plt.plot(range(len(df), len(df) + 30), scaler.inverse_transform(lst_output))"
   ]
  },
  {
   "cell_type": "code",
   "execution_count": null,
   "metadata": {},
   "outputs": [],
   "source": []
  }
 ],
 "metadata": {
  "kernelspec": {
   "display_name": "Python 3",
   "language": "python",
   "name": "python3"
  },
  "language_info": {
   "codemirror_mode": {
    "name": "ipython",
    "version": 3
   },
   "file_extension": ".py",
   "mimetype": "text/x-python",
   "name": "python",
   "nbconvert_exporter": "python",
   "pygments_lexer": "ipython3",
   "version": "3.10.7"
  },
  "orig_nbformat": 4
 },
 "nbformat": 4,
 "nbformat_minor": 2
}
